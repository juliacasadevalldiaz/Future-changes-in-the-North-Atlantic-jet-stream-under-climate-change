{
 "cells": [
  {
   "cell_type": "code",
   "execution_count": 1,
   "id": "e4a2e779-0fa1-43fb-9585-e574a727260a",
   "metadata": {},
   "outputs": [],
   "source": [
    "import numpy as np\n",
    "import matplotlib.pyplot as plt\n",
    "import scipy.stats\n",
    "import statistics\n",
    "import pandas as pd\n",
    "from scipy.stats import norm, kstest\n",
    "from scipy.stats import describe\n",
    "from scipy.stats import ks_2samp\n",
    "import math\n",
    "from statsmodels.tsa.stattools import acf\n",
    "import scipy.stats as stats \n",
    "from matplotlib.legend import Legend\n",
    "#import rich\n",
    "from rich import print"
   ]
  },
  {
   "cell_type": "code",
   "execution_count": 2,
   "id": "8333fbcd-ae62-4821-9eb7-6649fca4ea82",
   "metadata": {},
   "outputs": [
    {
     "name": "stdout",
     "output_type": "stream",
     "text": [
      "Name: rich\n",
      "Version: 13.3.5\n",
      "Summary: Render rich text, tables, progress bars, syntax highlighting, markdown and more to the terminal\n",
      "Home-page: https://github.com/Textualize/rich\n",
      "Author: Will McGugan\n",
      "Author-email: willmcgugan@gmail.com\n",
      "License: MIT\n",
      "Location: /home/users/earjcas/.local/lib/python3.10/site-packages\n",
      "Requires: markdown-it-py, pygments\n",
      "Required-by: \n",
      "Note: you may need to restart the kernel to use updated packages.\n"
     ]
    }
   ],
   "source": [
    "pip show rich"
   ]
  },
  {
   "cell_type": "code",
   "execution_count": 3,
   "id": "c5e43f2f-42e7-4d0f-b83f-c0eefa900b24",
   "metadata": {},
   "outputs": [],
   "source": [
    "# t-test for independent samples\n",
    "from math import sqrt\n",
    "from numpy.random import seed\n",
    "from numpy.random import randn\n",
    "from numpy import mean\n",
    "from scipy.stats import sem\n",
    "from scipy.stats import t"
   ]
  },
  {
   "cell_type": "code",
   "execution_count": 4,
   "id": "07d7a0f1-1519-4b3d-8d22-3a80b82572a1",
   "metadata": {},
   "outputs": [],
   "source": [
    "def r(ts):\n",
    "    lag_corr = []\n",
    "    for i in range(0,len(ts)):\n",
    "        vals = acf(ts[i])\n",
    "        print(vals)\n",
    "        lag_corr.append(vals[1])\n",
    "        \n",
    "    return np.mean(lag_corr)\n",
    "def rtemp(ts):\n",
    "    return acf(ts)[1]\n",
    "    \n",
    "def my_ks_2samp(s1,s2,alpha,r1,r2):\n",
    "    \n",
    "    # Gets all observations\n",
    "    s1 = np.sort(s1)\n",
    "    s2 = np.sort(s2)\n",
    "    observations = np.concatenate([s1, s2])\n",
    "\n",
    "    #generate cdfs\n",
    "    m,n = len(s1),len(s2) \n",
    "    cdf1 = np.searchsorted(s1, observations, side='right')/m\n",
    "    cdf2 = np.searchsorted(s2, observations, side='right')/n\n",
    "\n",
    "    #change smaple size to effective samaple size\n",
    "    meff,neff= ((1-r1)/(1+r1))*m,((1-r2)/(1+r2))*n \n",
    "    en = meff * neff / (meff + neff)\n",
    "\n",
    "    #compute statistic for given confidence interval\n",
    "    C =np.sqrt(-np.log(alpha/2)*0.5)\n",
    "    A = C*np.sqrt(1/en)\n",
    "\n",
    "    #take difference between cdfs\n",
    "    cddiffs = cdf1 - cdf2\n",
    "    argminS = np.argmin(cddiffs)\n",
    "    argmaxS = np.argmax(cddiffs)\n",
    "    \n",
    "    # Ensure sign of minS is not negative.\n",
    "    minS = np.clip(-cddiffs[argminS], 0, 1)\n",
    "    maxS = cddiffs[argmaxS]\n",
    "\n",
    "    if  minS > maxS:\n",
    "        d = minS\n",
    "    else:\n",
    "        d = maxS\n",
    "\n",
    "    p_value = stats.kstwo.sf(d, np.round(en))\n",
    "    return {\"statistic\": d, \"pvalue\" : p_value, \"c_value\": A}"
   ]
  },
  {
   "cell_type": "code",
   "execution_count": 26,
   "id": "d1781adb-a9ac-4bd4-8d96-41af247bd6b1",
   "metadata": {},
   "outputs": [],
   "source": [
    "variable = 'Umass'\n",
    "modelname = 'ACCESS-ESM1-5'\n",
    "\n",
    "\n",
    "if(variable=='phibar'):\n",
    "    binvals=np.arange(25,76,1) \n",
    "    units='[deg N]'\n",
    "if(variable=='alpha'):\n",
    "    binvals=np.arange(-60,60,2)\n",
    "    units='[deg]'\n",
    "if(variable=='Umean'):\n",
    "    binvals=np.arange(7.5,22.5,0.6)\n",
    "    units='[m/s]'\n",
    "if(variable=='Umass'):\n",
    "    binvals=np.arange(0,3,0.05)\n",
    "    units='[1E14 km^2 m/s]'\n",
    "\n",
    "if(modelname == 'IPSL-CM6A-LR'):\n",
    "    nhist=10\n",
    "    nfut=11\n",
    "    fv='1'\n",
    "    lletra= '(a)'\n",
    "if(modelname == 'UKESM1-0-LL'):\n",
    "    nhist=20\n",
    "    nfut=20\n",
    "    fv='2'\n",
    "    lletra= '(b)'\n",
    "if(modelname == 'CNRM-CM6-1'):\n",
    "    nhist=10\n",
    "    nfut=7\n",
    "    fv='2'\n",
    "    lletra= '(c)'\n",
    "if(modelname == 'CanESM5'):\n",
    "   nhist=8\n",
    "   nfut=8\n",
    "   fv='1'\n",
    "   lletra= '(d)'\n",
    "if(modelname == 'ACCESS-ESM1-5'):\n",
    "    nhist=9\n",
    "    nfut=9\n",
    "    fv='1'\n",
    "    lletra= '(e)'"
   ]
  },
  {
   "cell_type": "code",
   "execution_count": 27,
   "id": "3d921a19-57e2-4773-b8d5-5b924b111b9f",
   "metadata": {},
   "outputs": [
    {
     "data": {
      "text/html": [
       "<pre style=\"white-space:pre;overflow-x:auto;line-height:normal;font-family:Menlo,'DejaVu Sans Mono',consolas,'Courier New',monospace\">\n",
       "</pre>\n"
      ],
      "text/plain": [
       "\n"
      ]
     },
     "metadata": {},
     "output_type": "display_data"
    },
    {
     "data": {
      "text/html": [
       "<pre style=\"white-space:pre;overflow-x:auto;line-height:normal;font-family:Menlo,'DejaVu Sans Mono',consolas,'Courier New',monospace\"><span style=\"font-weight: bold\">{</span><span style=\"color: #008000; text-decoration-color: #008000\">'statistic'</span>: <span style=\"color: #008080; text-decoration-color: #008080; font-weight: bold\">0.05030478845433051</span>, <span style=\"color: #008000; text-decoration-color: #008000\">'pvalue'</span>: <span style=\"color: #008080; text-decoration-color: #008080; font-weight: bold\">0.043181067851459365</span>, <span style=\"color: #008000; text-decoration-color: #008000\">'c_value'</span>: <span style=\"color: #008080; text-decoration-color: #008080; font-weight: bold\">0.0495626353366928</span><span style=\"font-weight: bold\">}</span>\n",
       "</pre>\n"
      ],
      "text/plain": [
       "\u001b[1m{\u001b[0m\u001b[32m'statistic'\u001b[0m: \u001b[1;36m0.05030478845433051\u001b[0m, \u001b[32m'pvalue'\u001b[0m: \u001b[1;36m0.043181067851459365\u001b[0m, \u001b[32m'c_value'\u001b[0m: \u001b[1;36m0.0495626353366928\u001b[0m\u001b[1m}\u001b[0m\n"
      ]
     },
     "metadata": {},
     "output_type": "display_data"
    },
    {
     "data": {
      "text/html": [
       "<pre style=\"white-space:pre;overflow-x:auto;line-height:normal;font-family:Menlo,'DejaVu Sans Mono',consolas,'Courier New',monospace\"><span style=\"color: #008080; text-decoration-color: #008080; font-weight: bold\">5.03e-02</span>\n",
       "</pre>\n"
      ],
      "text/plain": [
       "\u001b[1;36m5.03e-02\u001b[0m\n"
      ]
     },
     "metadata": {},
     "output_type": "display_data"
    },
    {
     "data": {
      "text/html": [
       "<pre style=\"white-space:pre;overflow-x:auto;line-height:normal;font-family:Menlo,'DejaVu Sans Mono',consolas,'Courier New',monospace\"><span style=\"color: #008080; text-decoration-color: #008080; font-weight: bold\">4.32e-02</span>\n",
       "</pre>\n"
      ],
      "text/plain": [
       "\u001b[1;36m4.32e-02\u001b[0m\n"
      ]
     },
     "metadata": {},
     "output_type": "display_data"
    },
    {
     "data": {
      "text/html": [
       "<pre style=\"white-space:pre;overflow-x:auto;line-height:normal;font-family:Menlo,'DejaVu Sans Mono',consolas,'Courier New',monospace\"><span style=\"color: #008080; text-decoration-color: #008080; font-weight: bold\">0.8039945554637756</span> <span style=\"color: #008080; text-decoration-color: #008080; font-weight: bold\">0.7928572419791523</span>\n",
       "</pre>\n"
      ],
      "text/plain": [
       "\u001b[1;36m0.8039945554637756\u001b[0m \u001b[1;36m0.7928572419791523\u001b[0m\n"
      ]
     },
     "metadata": {},
     "output_type": "display_data"
    },
    {
     "data": {
      "text/html": [
       "<pre style=\"white-space:pre;overflow-x:auto;line-height:normal;font-family:Menlo,'DejaVu Sans Mono',consolas,'Courier New',monospace\"><span style=\"color: #008080; text-decoration-color: #008080; font-weight: bold\">3005.2773119033955</span>\n",
       "</pre>\n"
      ],
      "text/plain": [
       "\u001b[1;36m3005.2773119033955\u001b[0m\n"
      ]
     },
     "metadata": {},
     "output_type": "display_data"
    },
    {
     "data": {
      "text/html": [
       "<pre style=\"white-space:pre;overflow-x:auto;line-height:normal;font-family:Menlo,'DejaVu Sans Mono',consolas,'Courier New',monospace\"><span style=\"color: #808000; text-decoration-color: #808000\">t</span>=<span style=\"color: #008080; text-decoration-color: #008080; font-weight: bold\">-8.080</span>, <span style=\"color: #808000; text-decoration-color: #808000\">df</span>=<span style=\"color: #008080; text-decoration-color: #008080; font-weight: bold\">3005</span>, <span style=\"color: #808000; text-decoration-color: #808000\">cv</span>=<span style=\"color: #008080; text-decoration-color: #008080; font-weight: bold\">1.645</span>, <span style=\"color: #808000; text-decoration-color: #808000\">p</span>=<span style=\"color: #008080; text-decoration-color: #008080; font-weight: bold\">0.000</span>\n",
       "</pre>\n"
      ],
      "text/plain": [
       "\u001b[33mt\u001b[0m=\u001b[1;36m-8.080\u001b[0m, \u001b[33mdf\u001b[0m=\u001b[1;36m3005\u001b[0m, \u001b[33mcv\u001b[0m=\u001b[1;36m1\u001b[0m\u001b[1;36m.645\u001b[0m, \u001b[33mp\u001b[0m=\u001b[1;36m0\u001b[0m\u001b[1;36m.000\u001b[0m\n"
      ]
     },
     "metadata": {},
     "output_type": "display_data"
    },
    {
     "data": {
      "text/html": [
       "<pre style=\"white-space:pre;overflow-x:auto;line-height:normal;font-family:Menlo,'DejaVu Sans Mono',consolas,'Courier New',monospace\">Reject the null hypothesis that the means are equal. The sample means are different\n",
       "</pre>\n"
      ],
      "text/plain": [
       "Reject the null hypothesis that the means are equal. The sample means are different\n"
      ]
     },
     "metadata": {},
     "output_type": "display_data"
    },
    {
     "data": {
      "text/html": [
       "<pre style=\"white-space:pre;overflow-x:auto;line-height:normal;font-family:Menlo,'DejaVu Sans Mono',consolas,'Courier New',monospace\">Reject the null hypothesis that the means are equal. The sample means are different\n",
       "</pre>\n"
      ],
      "text/plain": [
       "Reject the null hypothesis that the means are equal. The sample means are different\n"
      ]
     },
     "metadata": {},
     "output_type": "display_data"
    },
    {
     "data": {
      "text/html": [
       "<pre style=\"white-space:pre;overflow-x:auto;line-height:normal;font-family:Menlo,'DejaVu Sans Mono',consolas,'Courier New',monospace\"><span style=\"color: #008080; text-decoration-color: #008080; font-weight: bold\">4.32e-02</span>\n",
       "</pre>\n"
      ],
      "text/plain": [
       "\u001b[1;36m4.32e-02\u001b[0m\n"
      ]
     },
     "metadata": {},
     "output_type": "display_data"
    },
    {
     "data": {
      "text/html": [
       "<div>\n",
       "<style scoped>\n",
       "    .dataframe tbody tr th:only-of-type {\n",
       "        vertical-align: middle;\n",
       "    }\n",
       "\n",
       "    .dataframe tbody tr th {\n",
       "        vertical-align: top;\n",
       "    }\n",
       "\n",
       "    .dataframe thead th {\n",
       "        text-align: right;\n",
       "    }\n",
       "</style>\n",
       "<table border=\"1\" class=\"dataframe\">\n",
       "  <thead>\n",
       "    <tr style=\"text-align: right;\">\n",
       "      <th></th>\n",
       "      <th>1995-2014</th>\n",
       "      <th>2080-2099</th>\n",
       "    </tr>\n",
       "  </thead>\n",
       "  <tbody>\n",
       "    <tr>\n",
       "      <th>Median</th>\n",
       "      <td>1.086073</td>\n",
       "      <td>1.130735</td>\n",
       "    </tr>\n",
       "    <tr>\n",
       "      <th>Mean</th>\n",
       "      <td>1.063306</td>\n",
       "      <td>1.112484</td>\n",
       "    </tr>\n",
       "    <tr>\n",
       "      <th>Standard Deviation</th>\n",
       "      <td>0.413429</td>\n",
       "      <td>0.402803</td>\n",
       "    </tr>\n",
       "    <tr>\n",
       "      <th>Skweness</th>\n",
       "      <td>-0.093934</td>\n",
       "      <td>-0.136315</td>\n",
       "    </tr>\n",
       "    <tr>\n",
       "      <th>K-S test (statistic, p-value)</th>\n",
       "      <td>5.03e-02, 4.32e-02</td>\n",
       "      <td>5.03e-02, 4.32e-02</td>\n",
       "    </tr>\n",
       "  </tbody>\n",
       "</table>\n",
       "</div>"
      ],
      "text/plain": [
       "                                        1995-2014           2080-2099\n",
       "Median                                   1.086073            1.130735\n",
       "Mean                                     1.063306            1.112484\n",
       "Standard Deviation                       0.413429            0.402803\n",
       "Skweness                                -0.093934           -0.136315\n",
       "K-S test (statistic, p-value)  5.03e-02, 4.32e-02  5.03e-02, 4.32e-02"
      ]
     },
     "execution_count": 27,
     "metadata": {},
     "output_type": "execute_result"
    },
    {
     "data": {
      "image/png": "[encoded data removed]",
      "text/plain": [
       "<Figure size 432x288 with 1 Axes>"
      ]
     },
     "metadata": {
      "needs_background": "light"
     },
     "output_type": "display_data"
    }
   ],
   "source": [
    "for ens in np.arange(1,nhist,1):\n",
    "    if(ens == 1):\n",
    "        data = np.load('/home/users/earjcas/data/diags/'+modelname+'/'+variable+'_'+modelname+'_historical_r'+str(ens)+'i1p1f'+fv+'.npy')\n",
    "        data = data[np.where(data != 0)]\n",
    "    else:\n",
    "        if(modelname =='IPSL-CM6A-LR' and ens == 7): \n",
    "            print()    \n",
    "        else:\n",
    "            if(modelname =='UKESM1-0-LL' and ens == 13 or ens == 14 or ens ==  15):\n",
    "                print()\n",
    "            else:    \n",
    "                dum = np.load('/home/users/earjcas/data/diags/'+modelname+'/'+variable+'_'+modelname+'_historical_r'+str(ens)+'i1p1f'+fv+'.npy')\n",
    "                dum = dum[np.where(dum != 0)]\n",
    "                data = np.concatenate((data,dum))\n",
    "                \n",
    "for ens in (np.arange(1,nfut,1)):\n",
    "        if (ens == 1 and modelname != 'ACCESS-ESM1-5'):\n",
    "            data2= np.load('/home/users/earjcas/data/diags/'+modelname+'/'+variable+'_'+modelname+'_ssp370_r'+str(ens)+'i1p1f'+fv+'.npy')\n",
    "            data2 = data2[np.where(data2 !=0)]\n",
    "        else:\n",
    "            if(modelname =='IPSL-CM6A-LR' and ens == 7):\n",
    "                print()\n",
    "            else:\n",
    "                if(modelname == 'UKESM1-0-LL' and ens == 13 or ens == 14 or ens == 15):\n",
    "                    print()  \n",
    "                else:\n",
    "                    if(modelname =='ACCESS-ESM1-5' and ens==1):\n",
    "                        print()\n",
    "                    else:\n",
    "                        if(modelname == 'ACCESS-ESM1-5' and ens == 2):\n",
    "                            data2= np.load('/home/users/earjcas/data/diags/'+modelname+'/'+variable+'_'+modelname+'_ssp370_r'+str(ens)+'i1p1f'+fv+'.npy')\n",
    "                            data2 = data2[np.where(data2 !=0)]\n",
    "                        else:\n",
    "                            dum = np.load('/home/users/earjcas/data/diags/'+modelname+'/'+variable+'_'+modelname+'_ssp370_r'+str(ens)+'i1p1f'+fv+'.npy')\n",
    "                            dum = dum[np.where(dum != 0)]\n",
    "                            data2 = np.concatenate((data2,dum))\n",
    "\n",
    "if(variable=='Umass'):\n",
    "    data=data/1E14\n",
    "    data2=data2/1E14\n",
    "\n",
    "#CALCULATE K-S TEST\n",
    "\n",
    "r1 = rtemp(data)\n",
    "r2 = rtemp(data2)\n",
    "\n",
    "KS = my_ks_2samp(data,data2,0.05,r1,r2)\n",
    "print(KS)\n",
    "\n",
    "statistic = \"{:.2e}\".format(KS[\"statistic\"])\n",
    "pvalue = \"{:.2e}\".format(KS[\"pvalue\"])\n",
    "print(\"{:.2e}\".format(KS[\"statistic\"])) \n",
    "print(\"{:.2e}\".format(KS[\"pvalue\"])) \n",
    "\n",
    "\n",
    "#CALCULTATE T-STUDENT TEST FOR TWO INDEPENDENT SAMPLES\n",
    "\n",
    "def independent_ttest(data, data2, alpha1):\n",
    " # calculate means\n",
    "    mean1, mean2 = mean(data), mean(data2)\n",
    " # calculate standard errors\n",
    "    se1, se2 = np.var(data), np.var(data2)\n",
    " # standard error on the difference between the samples\n",
    "    sed = sqrt(se1**2.0 + se2**2.0)\n",
    " # calculate the t statistic\n",
    "    \n",
    " # degrees of freedom\n",
    "    m,n = len(data),len(data2) \n",
    "    r1 = rtemp(data)\n",
    "    r2 = rtemp(data2)\n",
    "    print(r1,r2)\n",
    "    meff,neff= ((1-r1)/(1+r1))*m,((1-r2)/(1+r2))*n \n",
    "    #Neff = ((1-r1*r2)/(1+r2*r1))*max(m,n)\n",
    "    df = meff+neff-2\n",
    "    print(df)\n",
    "    sp = np.sqrt(((meff-1)*se1**2 + (neff-1)*se2**2)/df)\n",
    "    #sp = np.sqrt(sed/2)\n",
    "    t_stat = (mean1 - mean2) / (sp*np.sqrt(1/meff + 1/neff))\n",
    "    #t_stat = (mean1-mean2)/sp*np.sqrt(2/Neff)\n",
    " # calculate the critical value\n",
    "    cv = t.ppf(1.0 - alpha1, df)\n",
    " # calculate the p-value\n",
    "    #p = (1.0 - t.cdf(abs(t_stat), df)) * 2.0\n",
    "    p = 2*t.sf(abs(t_stat),df)\n",
    " # return everything\n",
    "    return t_stat, df, cv, p\n",
    " \n",
    "# calculate the t test\n",
    "alpha1 = 0.05\n",
    "t_stat, df, cv, p = independent_ttest(data, data2, alpha1)\n",
    "print('t=%.3f, df=%d, cv=%.3f, p=%.3f' % (t_stat, df, cv, p))\n",
    "# interpret via critical value\n",
    "if abs(t_stat) <= cv:\n",
    " print('Accept null hypothesis that the means are equal. The sample means are equal')\n",
    "else:\n",
    " print('Reject the null hypothesis that the means are equal. The sample means are different')\n",
    "# interpret via p-value\n",
    "if p > alpha1:\n",
    " print('Accept null hypothesis that the means are equal.The sample means are equal')\n",
    "else:\n",
    " print('Reject the null hypothesis that the means are equal. The sample means are different')\n",
    "\n",
    "#PLOT HISTOGRAM\n",
    "\n",
    "plt.hist(data, density=True, bins=binvals, histtype='step', stacked=True, fill=False, color='blue', label='1995-2014')  # density=False would make counts\n",
    "plt.hist(data2, density=True, bins=binvals, histtype='step', stacked=True, fill=False, color='orange', label='2080-2099')  # density=False would make counts\n",
    "plt.ylabel('Density')\n",
    "plt.xlabel(variable+' '+units)\n",
    "plt.title(modelname)\n",
    "plt.legend()\n",
    "\n",
    "#pvalue = \"{:.2f}\".format(KS[\"pvalue\"])\n",
    "print(pvalue)\n",
    "#PLOT DATA FRAME\n",
    "\n",
    "pd.DataFrame({'1995-2014': [statistics.median(data), statistics.mean(data), statistics.stdev(data),scipy.stats.skew(data),statistic+', '+pvalue], \n",
    "              '2080-2099': [statistics.median(data2), statistics.mean(data2), statistics.stdev(data2),scipy.stats.skew(data2), statistic+', '+pvalue]},\n",
    "             index=['Median', 'Mean', 'Standard Deviation', 'Skweness', 'K-S test (statistic, p-value)'])"
   ]
  },
  {
   "cell_type": "code",
   "execution_count": 28,
   "id": "592c86a4-d761-4f04-b511-55fe14bd8663",
   "metadata": {},
   "outputs": [
    {
     "data": {
      "text/html": [
       "<div>\n",
       "<style scoped>\n",
       "    .dataframe tbody tr th:only-of-type {\n",
       "        vertical-align: middle;\n",
       "    }\n",
       "\n",
       "    .dataframe tbody tr th {\n",
       "        vertical-align: top;\n",
       "    }\n",
       "\n",
       "    .dataframe thead th {\n",
       "        text-align: right;\n",
       "    }\n",
       "</style>\n",
       "<table border=\"1\" class=\"dataframe\">\n",
       "  <thead>\n",
       "    <tr style=\"text-align: right;\">\n",
       "      <th></th>\n",
       "      <th>Mean Student's t-Test</th>\n",
       "    </tr>\n",
       "  </thead>\n",
       "  <tbody>\n",
       "    <tr>\n",
       "      <th>t statistic</th>\n",
       "      <td>-8.079522e+00</td>\n",
       "    </tr>\n",
       "    <tr>\n",
       "      <th>degrees of freedom</th>\n",
       "      <td>3.005277e+03</td>\n",
       "    </tr>\n",
       "    <tr>\n",
       "      <th>critical value</th>\n",
       "      <td>1.645361e+00</td>\n",
       "    </tr>\n",
       "    <tr>\n",
       "      <th>p-value</th>\n",
       "      <td>9.320645e-16</td>\n",
       "    </tr>\n",
       "  </tbody>\n",
       "</table>\n",
       "</div>"
      ],
      "text/plain": [
       "                    Mean Student's t-Test\n",
       "t statistic                 -8.079522e+00\n",
       "degrees of freedom           3.005277e+03\n",
       "critical value               1.645361e+00\n",
       "p-value                      9.320645e-16"
      ]
     },
     "execution_count": 28,
     "metadata": {},
     "output_type": "execute_result"
    }
   ],
   "source": [
    "#PLOT T-STUDENT DATA FRAME\n",
    "pd.DataFrame({\"Mean Student's t-Test\": [t_stat, df, cv, p]},\n",
    "             index= ['t statistic', 'degrees of freedom', 'critical value', 'p-value'])"
   ]
  },
  {
   "cell_type": "code",
   "execution_count": 29,
   "id": "c8fe1b82-71bc-4f2b-90d7-e5a9b728afd4",
   "metadata": {},
   "outputs": [
    {
     "data": {
      "text/html": [
       "<pre style=\"white-space:pre;overflow-x:auto;line-height:normal;font-family:Menlo,'DejaVu Sans Mono',consolas,'Courier New',monospace\"><span style=\"color: #008080; text-decoration-color: #008080; font-weight: bold\">9.320644932295766e-16</span>\n",
       "</pre>\n"
      ],
      "text/plain": [
       "\u001b[1;36m9.320644932295766e-16\u001b[0m\n"
      ]
     },
     "metadata": {},
     "output_type": "display_data"
    },
    {
     "data": {
      "text/html": [
       "<pre style=\"white-space:pre;overflow-x:auto;line-height:normal;font-family:Menlo,'DejaVu Sans Mono',consolas,'Courier New',monospace\"><span style=\"color: #008080; text-decoration-color: #008080; font-weight: bold\">4.32e-02</span>\n",
       "</pre>\n"
      ],
      "text/plain": [
       "\u001b[1;36m4.32e-02\u001b[0m\n"
      ]
     },
     "metadata": {},
     "output_type": "display_data"
    },
    {
     "data": {
      "image/png": "[encoded data removed]",
      "text/plain": [
       "<Figure size 432x288 with 1 Axes>"
      ]
     },
     "metadata": {
      "needs_background": "light"
     },
     "output_type": "display_data"
    }
   ],
   "source": [
    "fig, ax = plt.subplots()\n",
    "\n",
    "ax.hist(data, density=True, bins=binvals, histtype='step', stacked=True, fill=False, color='blue', label='1995-2014')\n",
    "ax.hist(data2, density=True, bins=binvals, histtype='step', stacked=True, fill=False, color='orange', label='2080-2099')\n",
    "ax.set_ylabel('Density')\n",
    "ax.set_xlabel(variable+' '+units)\n",
    "ax.set_title(modelname)\n",
    "ax.legend(loc = \"upper right\")\n",
    "\n",
    "font = {'family': 'sans-serif',\n",
    "        'color':  'black',\n",
    "        'weight': 'normal',\n",
    "        'size': 10,\n",
    "        }\n",
    "fontbold = {'family': 'sans-serif',\n",
    "        'color':  'black',\n",
    "        'weight': 'bold',\n",
    "        'size': 10,\n",
    "        }\n",
    "mean_present =   str(round(statistics.mean(data),2))\n",
    "mean_future =   str(round(statistics.mean(data2),2))\n",
    "sd_present =  str(round(statistics.stdev(data),2))\n",
    "sd_future =  str(round(statistics.stdev(data2),2))\n",
    "skew_present =  str(round(scipy.stats.skew(data),2))\n",
    "skew_future =  str(round(scipy.stats.skew(data2),2))\n",
    "#pvalue = str(round(KS[\"pvalue\"],3))\n",
    "pvalue = pvalue = \"{:.2e}\".format(KS[\"pvalue\"])\n",
    "print(p)\n",
    "print(pvalue)\n",
    "\n",
    "if p <  0.05:\n",
    "    ax.text(0.70, 0.75, 'μ: ['+ mean_present+', '+mean_future+']', fontdict=fontbold,transform=ax.transAxes) #2.2, 1\n",
    "    ax.text(0.7, 0.65, 'σ: ['+ sd_present+', '+sd_future+']', fontdict=font,transform=ax.transAxes)\n",
    "    ax.text(0.7, 0.55, 'skew: ['+ skew_present+', '+skew_future+']', fontdict=font,transform=ax.transAxes)\n",
    "    ax.text(0.7, 0.45, 'p(K-S):'+ pvalue, fontdict=font,transform=ax.transAxes)\n",
    "    ax.text(0.01, 0.95,lletra, fontdict=fontbold,transform=ax.transAxes)\n",
    "else:\n",
    "    ax.text(0.03, 0.85, 'μ: ['+ mean_present+', '+mean_future+']', fontdict=font,transform=ax.transAxes)#2.2, 1.05\n",
    "    ax.text(0.03, 0.75, 'σ: ['+ sd_present+', '+sd_future+']', fontdict=font,transform=ax.transAxes)\n",
    "    ax.text(0.03, 0.65, 'skew: ['+ skew_present+', '+skew_future+']', fontdict=font,transform=ax.transAxes)\n",
    "    ax.text(0.03, 0.55, 'p(K-S):'+ pvalue, fontdict=font,transform=ax.transAxes)\n",
    "    ax.text(0.01, 0.95,lletra, fontdict=fontbold,transform=ax.transAxes)\n",
    "    \n",
    "plt.show()"
   ]
  },
  {
   "cell_type": "code",
   "execution_count": 21,
   "id": "15a00197-64b5-46ad-922b-2555d257c9d0",
   "metadata": {},
   "outputs": [],
   "source": [
    "np.save(''+variable+'_'+modelname+'_historical.npy', data)\n",
    "np.save(''+variable+'_'+modelname+'_future.npy', data2)"
   ]
  }
 ],
 "metadata": {
  "kernelspec": {
   "display_name": "Python 3 + Jaspy",
   "language": "python",
   "name": "jaspy"
  },
  "language_info": {
   "codemirror_mode": {
    "name": "ipython",
    "version": 3
   },
   "file_extension": ".py",
   "mimetype": "text/x-python",
   "name": "python",
   "nbconvert_exporter": "python",
   "pygments_lexer": "ipython3",
   "version": "3.10.8"
  }
 },
 "nbformat": 4,
 "nbformat_minor": 5
}
